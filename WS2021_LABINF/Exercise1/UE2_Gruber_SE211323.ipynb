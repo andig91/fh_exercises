{
 "cells": [
  {
   "cell_type": "markdown",
   "id": "24a7f556",
   "metadata": {},
   "source": [
    "# Übung 2:\n",
    "\n",
    "Erstellen Sie ein neues Notebook und erweitern Sie den Taschenrechner folgendermaßen:\n",
    "\n",
    "a) Ein weiterer User Input \"Welche Rechenoperation soll durchgeführt werden?\" --> Speichern Sie diesen Input ebenfalls in einer Variable.\n",
    "\n",
    "b) Erweitern Sie die Funktionalität mit folgenden Rechenoperationen: Subtraktion, Division und Multiplikation --> Tip: if / elif\n",
    "\n",
    "c) Sollte bei der Auswahl der Rechenoperation keine richtige Auswahl getroffen worden sein soll es zu folgender Ausgabe kommen --> \"Keine gültige Rechenoperation\"\n",
    "\n",
    "5 Punkte"
   ]
  },
  {
   "cell_type": "code",
   "execution_count": 2,
   "id": "b26513e7",
   "metadata": {},
   "outputs": [
    {
     "name": "stdout",
     "output_type": "stream",
     "text": [
      "=====================================\n",
      "==          Taschenrechner         ==\n",
      "=====================================\n",
      "Bitte geben Sie die erste Zahl ein:   70\n",
      "Bitte geben Sie die zweite Zahl ein:   3.1\n",
      "Bitte geben Sie den Rechenoperator ein [+-*/]:   *\n",
      "Ergebnis: 217.0\n"
     ]
    }
   ],
   "source": [
    "# Programmstart (Anzahl Leerzeichen aus Angabe angepasst, damit die Formatierung odentlich aussieht)\n",
    "print(\"\"\"=====================================\n",
    "==          Taschenrechner         ==\n",
    "=====================================\"\"\")\n",
    "\n",
    "# Variable 1 einlesen\n",
    "zahl1=float(input(\"Bitte geben Sie die erste Zahl ein:   \"))\n",
    "\n",
    "# Variable 2 einlesen\n",
    "zahl2=float(input(\"Bitte geben Sie die zweite Zahl ein:   \"))\n",
    "\n",
    "# Unteraufgabe a: \n",
    "# Ein weiterer User Input \"Welche Rechenoperation soll durchgeführt werden?\" --> Speichern Sie diesen Input ebenfalls in einer Variable.\n",
    "# Rechenoperator einlesen\n",
    "operator=input(\"Bitte geben Sie den Rechenoperator ein [+-*/]:   \")\n",
    "\n",
    "# Unteraufgabe b: \n",
    "# Erweitern Sie die Funktionalität mit folgenden Rechenoperationen: Subtraktion, Division und Multiplikation --> Tip: if / elif\n",
    "# Berechnung nach Operator\n",
    "if operator == \"+\":\n",
    "    ergebnis=zahl1+zahl2\n",
    "elif operator == \"-\":\n",
    "    ergebnis=zahl1-zahl2\n",
    "elif operator == \"*\":\n",
    "    ergebnis=zahl1*zahl2   \n",
    "elif operator == \"/\":\n",
    "# Prüfe ob keine Division durch 0\n",
    "    if zahl2 != 0:\n",
    "        ergebnis=zahl1/zahl2   \n",
    "    else:\n",
    "        ergebnis = u\"\\u221E\"  \n",
    "# Unteraufgabe c:\n",
    "# Sollte bei der Auswahl der Rechenoperation keine richtige Auswahl getroffen worden sein soll es zu folgender Ausgabe kommen --> \"Keine gültige Rechenoperation\"\n",
    "# Bedingung falls nicht zutreffend\n",
    "else:\n",
    "    print(\"Keine gültige Rechenoperation\")\n",
    "\n",
    "# Consolenausgabe\n",
    "if operator in (\"+\",\"-\",\"*\",\"/\"):\n",
    "    print(\"Ergebnis: \" + str(ergebnis))\n",
    "else:\n",
    "    print(\"Keine Ergebniskalkulation möglich\")"
   ]
  }
 ],
 "metadata": {
  "kernelspec": {
   "display_name": "Python 3 (ipykernel)",
   "language": "python",
   "name": "python3"
  },
  "language_info": {
   "codemirror_mode": {
    "name": "ipython",
    "version": 3
   },
   "file_extension": ".py",
   "mimetype": "text/x-python",
   "name": "python",
   "nbconvert_exporter": "python",
   "pygments_lexer": "ipython3",
   "version": "3.9.7"
  }
 },
 "nbformat": 4,
 "nbformat_minor": 5
}
