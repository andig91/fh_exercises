{
 "cells": [
  {
   "cell_type": "markdown",
   "id": "2b545a4d",
   "metadata": {},
   "source": [
    "# Übung 1:\n",
    "\n",
    "Erstellen Sie ein Notebook mit folgenden Eigenschaften:\n",
    "\n",
    "a) Beim Start soll folgender Text angezeigt werden:\n",
    "\n",
    "```\n",
    "=====================================\n",
    "==                      Taschenrechner                     ==\n",
    "=====================================\n",
    "```\n",
    "\n",
    "b) 2x User Input mit Eingabe einer Float Zahl --> Fordern Sie den User auf Zahl 1 bzw. 2 einzugeben --> Speichern Sie diese jeweils in einer Variable\n",
    "\n",
    "c) Beide Eingaben sollen addiert werden und in der Variable \"Summe\" gespeichert werden\n",
    "\n",
    "d) Am Ende soll es folgende Ausgabe geben: \"Ergebnis: \" + der Summen Variable\n",
    "\n",
    "5 Punkte"
   ]
  },
  {
   "cell_type": "code",
   "execution_count": 3,
   "id": "67e48ef8",
   "metadata": {},
   "outputs": [
    {
     "name": "stdout",
     "output_type": "stream",
     "text": [
      "=====================================\n",
      "==          Taschenrechner         ==\n",
      "=====================================\n",
      "Bitte geben Sie die erste Zahl ein:   300\n",
      "Bitte geben Sie die zweite Zahl ein:   66.666\n",
      "Ergebnis: 366.666\n"
     ]
    }
   ],
   "source": [
    "# Unteraufgabe a: \n",
    "# Beim Start soll folgender Text angezeigt werden\n",
    "# Programmstart (Anzahl Leerzeichen aus Angabe angepasst, damit die Formatierung odentlich aussieht)\n",
    "print(\"\"\"=====================================\n",
    "==          Taschenrechner         ==\n",
    "=====================================\"\"\")\n",
    "\n",
    "# Unteraufgabe b: \n",
    "# 2x User Input mit Eingabe einer Float Zahl --> Fordern Sie den User auf Zahl 1 bzw. 2 einzugeben --> Speichern Sie diese jeweils in einer Variable\n",
    "# Variable 1 einlesen\n",
    "zahl1=float(input(\"Bitte geben Sie die erste Zahl ein:   \"))\n",
    "# Variable 2 einlesen\n",
    "zahl2=float(input(\"Bitte geben Sie die zweite Zahl ein:   \"))\n",
    "\n",
    "# Unteraufgabe c:\n",
    "# Beide Eingaben sollen addiert werden und in der Variable \"Summe\" gespeichert werden\n",
    "# Summe berechnen\n",
    "Summe=zahl1+zahl2\n",
    "\n",
    "# Unteraufgabe d: \n",
    "# Am Ende soll es folgende Ausgabe geben: \"Ergebnis: \" + der Summen Variable\n",
    "# Consolenausgabe\n",
    "print(\"Ergebnis: \" + str(Summe))"
   ]
  }
 ],
 "metadata": {
  "kernelspec": {
   "display_name": "Python 3 (ipykernel)",
   "language": "python",
   "name": "python3"
  },
  "language_info": {
   "codemirror_mode": {
    "name": "ipython",
    "version": 3
   },
   "file_extension": ".py",
   "mimetype": "text/x-python",
   "name": "python",
   "nbconvert_exporter": "python",
   "pygments_lexer": "ipython3",
   "version": "3.9.7"
  }
 },
 "nbformat": 4,
 "nbformat_minor": 5
}
