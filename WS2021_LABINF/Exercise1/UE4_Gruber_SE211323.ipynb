{
 "cells": [
  {
   "cell_type": "markdown",
   "id": "24a7f556",
   "metadata": {},
   "source": [
    "# Übung 4:\n",
    "\n",
    "Erstellen Sie ein neues Notebook und erweitern Sie den Taschenrechner folgendermaßen:\n",
    "\n",
    "a) Definieren Sie eine Funktion mit dem Namen \"Taschenrechner\" und integrieren Sie Ihren bisherigen Code in diese Funktion\n",
    "\n",
    "b) Rufen Sie die Funktion auf.\n",
    "\n",
    "10 Punkte"
   ]
  },
  {
   "cell_type": "code",
   "execution_count": 1,
   "id": "b26513e7",
   "metadata": {},
   "outputs": [
    {
     "name": "stdout",
     "output_type": "stream",
     "text": [
      "=====================================\n",
      "==          Taschenrechner         ==\n",
      "=====================================\n",
      "Bitte geben Sie die erste Zahl ein:   60\n",
      "Bitte geben Sie die zweite Zahl ein:   333.4\n",
      "Bitte geben Sie den Rechenoperator ein [+-*/]:   -\n",
      "Ihre Rechnung: 60.0 - 333.4\n",
      "Ergebnis: -273.4\n"
     ]
    }
   ],
   "source": [
    "# Unteraufgabe a:\n",
    "# Definieren Sie eine Funktion mit dem Namen \"Taschenrechner\" und integrieren Sie Ihren bisherigen Code in diese Funktion\n",
    "def Taschenrechner():\n",
    "    # Startanzeige (Anzahl Leerzeichen aus Angabe angepasst, damit die Formatierung odentlich aussieht)\n",
    "    print(\"=====================================\\n==          Taschenrechner         ==\\n=====================================\")\n",
    "\n",
    "    # Variable 1 einlesen\n",
    "    while True:\n",
    "        try:\n",
    "            zahl1=float(input(\"Bitte geben Sie die erste Zahl ein:   \"))\n",
    "            break\n",
    "    # Unteraufgabe a(1):\n",
    "    # Bei Eingabe der Zahlen soll wenn z.B. ein Buchstabe oder ein Zeichen eingegeben wird, das Abstürzen des Programms verhindert werden. Stattdessen soll die Fehlermeldung ausgegeben werden und zusätzlich eine Nachricht mit \"Nur Zahlen sind erlaubt!\"\n",
    "        except ValueError:\n",
    "            print(\"Nur Zahlen sind erlaubt! (Dezimaltrennzeichen = .). Bitte Eingabe wiederholen.\")\n",
    "\n",
    "    # Variable 2 einlesen\n",
    "    while True:\n",
    "        try:\n",
    "            zahl2=float(input(\"Bitte geben Sie die zweite Zahl ein:   \"))\n",
    "            break\n",
    "    # Unteraufgabe a(2):\n",
    "    # Bei Eingabe der Zahlen soll wenn z.B. ein Buchstabe oder ein Zeichen eingegeben wird, das Abstürzen des Programms verhindert werden. Stattdessen soll die Fehlermeldung ausgegeben werden und zusätzlich eine Nachricht mit \"Nur Zahlen sind erlaubt!\"\n",
    "        except ValueError:\n",
    "            print(\"Nur Zahlen sind erlaubt! (Dezimaltrennzeichen = .). Bitte Eingabe wiederholen.\")\n",
    "\n",
    "    # Rechenoperator einlesen\n",
    "    operator=input(\"Bitte geben Sie den Rechenoperator ein [+-*/]:   \")\n",
    "\n",
    "    # Berechnung nach Operator\n",
    "    if operator == \"+\":\n",
    "        ergebnis=zahl1+zahl2\n",
    "    elif operator == \"-\":\n",
    "        ergebnis=zahl1-zahl2\n",
    "    elif operator == \"*\":\n",
    "        ergebnis=zahl1*zahl2   \n",
    "    elif operator == \"/\":\n",
    "# Prüfe ob keine Division durch 0\n",
    "        if zahl2 != 0:\n",
    "            ergebnis=zahl1/zahl2   \n",
    "        else:\n",
    "            ergebnis = u\"\\u221E\"  \n",
    "    # Bedingung falls nicht zutreffend\n",
    "    else:\n",
    "        print(\"Keine gültige Rechenoperation\")\n",
    "\n",
    "    # Consolenausgabe\n",
    "    if operator in (\"+\",\"-\",\"*\",\"/\"):\n",
    "    # Unteraufgabe b: \n",
    "    # Vor dem Ergebnis soll noch zusätzlich folgendes ausgegeben werden: \"Ihre Rechnung: + die zuvor eingegeben Rechnung z.B. 2 * 4\"\n",
    "        print(\"Ihre Rechnung: \" + str(zahl1) + \" \" + operator + \" \" + str(zahl2))\n",
    "        print(\"Ergebnis: \" + str(ergebnis))\n",
    "    else:\n",
    "        print(\"Keine Ergebniskalkulation möglich\")\n",
    "\n",
    "# Unteraufgabe b:\n",
    "# Rufen Sie die Funktion auf.\n",
    "# Prgrammstart\n",
    "Taschenrechner()"
   ]
  }
 ],
 "metadata": {
  "kernelspec": {
   "display_name": "Python 3 (ipykernel)",
   "language": "python",
   "name": "python3"
  },
  "language_info": {
   "codemirror_mode": {
    "name": "ipython",
    "version": 3
   },
   "file_extension": ".py",
   "mimetype": "text/x-python",
   "name": "python",
   "nbconvert_exporter": "python",
   "pygments_lexer": "ipython3",
   "version": "3.9.7"
  }
 },
 "nbformat": 4,
 "nbformat_minor": 5
}
