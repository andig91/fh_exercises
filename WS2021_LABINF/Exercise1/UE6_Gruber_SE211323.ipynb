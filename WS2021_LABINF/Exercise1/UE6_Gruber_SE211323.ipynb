{
 "cells": [
  {
   "cell_type": "markdown",
   "id": "24a7f556",
   "metadata": {},
   "source": [
    "# Übung 6:\n",
    "\n",
    "Schreiben Sie ein Python Programm welches einen Rabatt aufgrund der Betragshöhe berechnet und ausgibt. Der Betrag wird als ganze Zahl durch den Benutzer als Input übergeben.\n",
    "Der Rabatt wird anhand des Betrages berechnet:\n",
    "\n",
    "+ weniger als 1000: 5 %\n",
    "+ von 1000 bis 1999: 10 %\n",
    "+ von 2000 bis 4999: 15 % + danach noch 2% Skonto\n",
    "+ darüber: 20 % + danach noch 3% Skonto"
   ]
  },
  {
   "cell_type": "code",
   "execution_count": 1,
   "id": "b26513e7",
   "metadata": {},
   "outputs": [
    {
     "name": "stdout",
     "output_type": "stream",
     "text": [
      "====================================\n",
      "==          Rabattrechner         ==\n",
      "====================================\n",
      "Bitte geben Sie die erste Zahl ein:   500\n",
      "Output:\n",
      "Betrag (€): 500\n",
      "Zahlungsbetrag: 475.0€\n",
      "\n",
      "Möchten Sie erneut einen Zahlungsbetrag berechnen [ja = y oder j, nein = beliebige Eingabe]:   Y\n",
      "\n",
      "Bitte geben Sie die erste Zahl ein:   4500\n",
      "Output:\n",
      "Betrag (€): 4500\n",
      "Zahlungsbetrag: 3748.5€\n",
      "\n",
      "Möchten Sie erneut einen Zahlungsbetrag berechnen [ja = y oder j, nein = beliebige Eingabe]:   sdadsadwqes\n"
     ]
    }
   ],
   "source": [
    "# Funktion Rabattrechner\n",
    "def Rabattrechner():\n",
    "    # Betrag als ganze Zahl einlesen\n",
    "    while True:\n",
    "        try:\n",
    "            betrag=int(input(\"Bitte geben Sie die erste Zahl ein:   \"))\n",
    "            if betrag < 0:\n",
    "                raise ValueError\n",
    "            break\n",
    "        except ValueError:\n",
    "            print(\"Nur positive Zahlen sind erlaubt! Bitte Eingabe wiederholen.\")\n",
    "\n",
    "    # Der Rabatt wird anhand des Betrages berechnet:\n",
    "    # weniger als 1000: 5 %\n",
    "    if betrag < 1000:\n",
    "        # Multipliziert mit 0.95 wirft teilweise komische Werte aus, darum 95/100\n",
    "        zahlungsbetrag=betrag*95/100\n",
    "    # von 1000 bis 1999: 10 %\n",
    "    elif betrag < 2000:\n",
    "        # Multipliziert mit 0.90 wirft teilweise komische Werte aus, darum 90/100\n",
    "        zahlungsbetrag=betrag*90/100\n",
    "    # von 2000 bis 4999: 15 % + danach noch 2% Skonto\n",
    "    elif betrag < 5000:\n",
    "        # Multipliziert mit 0.85*0.98 wirft teilweise komische Werte aus, darum 85*98/10000\n",
    "        zahlungsbetrag=betrag*85*98/10000\n",
    "    # darüber: 20 % + danach noch 3% Skonto\n",
    "    else:\n",
    "        # Multipliziert mit 0.8*0.97 wirft teilweise komische Werte aus, darum 80*97/10000\n",
    "        zahlungsbetrag=betrag*80*97/10000\n",
    "\n",
    "    # Consolenausgabe\n",
    "    print(\"Output:\\nBetrag (€): \" + str(betrag) + \"\\nZahlungsbetrag: \" + str(zahlungsbetrag) + \"€\\n\")\n",
    "\n",
    "\n",
    "# Prgrammstart\n",
    "# Startbanner macht nur beim Aufruf des Programms Sinn und nicht bei jedem Aufruf der Funktion\n",
    "print(\"====================================\\n==          Rabattrechner         ==\\n====================================\")\n",
    "\n",
    "# Schleife die mehrere Rabattkalkulationen erlaubt\n",
    "while True:\n",
    "    Rabattrechner()\n",
    "    # Abfrage ob erneut ausgeführt werden soll\n",
    "    repeat=input(\"Möchten Sie erneut einen Zahlungsbetrag berechnen [ja = y oder j, nein = beliebige Eingabe]:   \")\n",
    "    # Wenn Ja = Leerzeiel; Nein = Programmende\n",
    "    if repeat.lower() not in (\"y\",\"j\"):\n",
    "        break\n",
    "    else:\n",
    "        print(\"\")\n"
   ]
  }
 ],
 "metadata": {
  "kernelspec": {
   "display_name": "Python 3 (ipykernel)",
   "language": "python",
   "name": "python3"
  },
  "language_info": {
   "codemirror_mode": {
    "name": "ipython",
    "version": 3
   },
   "file_extension": ".py",
   "mimetype": "text/x-python",
   "name": "python",
   "nbconvert_exporter": "python",
   "pygments_lexer": "ipython3",
   "version": "3.9.7"
  }
 },
 "nbformat": 4,
 "nbformat_minor": 5
}
