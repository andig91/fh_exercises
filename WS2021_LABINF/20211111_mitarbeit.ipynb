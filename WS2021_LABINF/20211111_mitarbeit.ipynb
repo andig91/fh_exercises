{
 "cells": [
  {
   "cell_type": "markdown",
   "id": "5f9226ed",
   "metadata": {},
   "source": [
    "## Exercise\n",
    "\n",
    "1. Create a programm that clalculates income after taxes and also shows the ammount of taxes you pay.\n",
    "\n",
    "&emsp;**You need the variables:**  \n",
    "&emsp;&emsp;my_income  \n",
    "&emsp;&emsp;tax_rate  \n",
    "&emsp;&emsp;net_income  \n",
    "&emsp;&emsp;taxes_paid  \n",
    "\n",
    "&nbsp;&nbsp;&nbsp;&nbsp;**Print the values net_income and taxes_paid.**\n",
    "\n",
    "2. Create a simple lottery game with random.randrange(1,10).\n",
    "\n",
    "&emsp;**Yout need the variables:**  \n",
    "&emsp;&emsp;lottery_number  \n",
    "&emsp;&emsp;my_guess  \n",
    "\n",
    "&emsp;**Note: You have to import the random module**\n",
    "\n",
    "&emsp;**Print lottery_number and my_guess.**\n",
    "\n"
   ]
  },
  {
   "cell_type": "code",
   "execution_count": null,
   "id": "f965a953",
   "metadata": {},
   "outputs": [],
   "source": [
    "#Exercise 1\n",
    "\n",
    "my_income=1200\n",
    "tax_rate=30\n",
    "\n",
    "net_income=my_income*(100-tax_rate)/100\n",
    "taxes_paid=my_income*(tax_rate)/100\n",
    "\n",
    "print(net_income)\n",
    "print(taxes_paid)"
   ]
  },
  {
   "cell_type": "code",
   "execution_count": null,
   "id": "b2cc069b",
   "metadata": {},
   "outputs": [],
   "source": [
    "import random\n",
    "\n",
    "my_guess=2\n",
    "lottery_number=random.randrange(1,10)\n",
    "\n",
    "if my_guess == lottery_number:\n",
    "    print(\"Deine Wahl {}. Lotterie gezogen {}\".format(my_guess,lottery_number))\n",
    "    print(\"Glückwunsch gewonnen\")\n",
    "else:\n",
    "    print(\"Deine Wahl {}; Lotterie gezogen {}\".format(my_guess,lottery_number))\n",
    "    print(\"Die Zahlen sind verschieden\")"
   ]
  },
  {
   "cell_type": "code",
   "execution_count": null,
   "id": "fe0698ce",
   "metadata": {},
   "outputs": [],
   "source": [
    "boat_name = \"Boaty Mc Boat Face 2\"\n",
    "print(boat_name)\n",
    "#Challange print BatFace\n",
    "print(boat_name[0]+boat_name[2:4]+boat_name[14:18])"
   ]
  },
  {
   "cell_type": "code",
   "execution_count": null,
   "id": "e120e531",
   "metadata": {
    "scrolled": true
   },
   "outputs": [],
   "source": [
    "userInput=input(\"Was ist eigentlich los bei dir?  \")\n",
    "print(userInput)\n",
    "print(type(userInput))"
   ]
  },
  {
   "cell_type": "code",
   "execution_count": null,
   "id": "56823058",
   "metadata": {
    "scrolled": true
   },
   "outputs": [],
   "source": [
    "userInput=int(input(\"Wie alt bist du?  \"))\n",
    "print(userInput)\n",
    "print(\"You are \" + str(userInput) + \" old!\")"
   ]
  },
  {
   "cell_type": "code",
   "execution_count": null,
   "id": "84b5e737",
   "metadata": {},
   "outputs": [],
   "source": [
    "startWord = \"Train Company\"\n",
    "indexWord = \"Cat\"\n",
    "output = \"\"\n",
    "output2 = \"\"\n",
    "for letter in indexWord:\n",
    "    LetterIsUpper = letter.isupper()\n",
    "    position=startWord.lower().find(letter.lower())\n",
    "    print(\"Der Buchstabe \" + letter + \" ist an der \" + str(position))\n",
    "    if LetterIsUpper == True:\n",
    "        output += startWord[position].upper()\n",
    "    else:\n",
    "        output += startWord[position].lower()\n",
    "    output2 += startWord[position]\n",
    "    \n",
    "    \n",
    "print(output)\n",
    "print(output2.capitalize())"
   ]
  },
  {
   "cell_type": "code",
   "execution_count": null,
   "id": "7e76f98f",
   "metadata": {},
   "outputs": [],
   "source": [
    "sentence = '''We learned about:\n",
    "\"Snakes\",Numbers,\n",
    "Variables,\n",
    "Strings'''\n",
    "\n",
    "print(sentence)\n",
    "print()\n",
    "sentence= \"We learned about: \\n\\\"Snakes\\\",Numbers,\\nVariables,\\nString\"\n",
    "print(sentence)"
   ]
  },
  {
   "cell_type": "code",
   "execution_count": null,
   "id": "e86524c9",
   "metadata": {
    "scrolled": true
   },
   "outputs": [],
   "source": [
    "firstname = input(\"Enter your first name:  \")\n",
    "lastname = input(\"Enter your last name:  \")\n",
    "\n",
    "print(\"{} {}, you are awesome!\".format(firstname,lastname))"
   ]
  },
  {
   "cell_type": "code",
   "execution_count": null,
   "id": "6fc0a09c",
   "metadata": {},
   "outputs": [],
   "source": [
    "import random\n",
    "\n",
    "humanCheck=input(\"Are you a human?  \")\n",
    "\n",
    "if humanCheck.lower() == \"yes\":\n",
    "    print(\"Das ist schonmal gut, aber ich generiere eine Zahl und du gibst diese Zahl wieder ein.\")\n",
    "    zufallszahl = random.randrange(1,10000)\n",
    "    humanCheck2 = int(input(\"Die Zufallszahl ist \" + str(zufallszahl) +\"! Bitte eingeben: \"))\n",
    "    if humanCheck2 == zufallszahl:\n",
    "        print(\"Du bist ein echter Mensch\")\n",
    "    else:\n",
    "        print(\"Netter Versuch, du stellst dich an wie ein Roboter\")\n",
    "else:\n",
    "    print(\"Du versuchst nicht mal glaubwürdig zu sein\")"
   ]
  }
 ],
 "metadata": {
  "kernelspec": {
   "display_name": "Python 3",
   "language": "python",
   "name": "python3"
  },
  "language_info": {
   "codemirror_mode": {
    "name": "ipython",
    "version": 3
   },
   "file_extension": ".py",
   "mimetype": "text/x-python",
   "name": "python",
   "nbconvert_exporter": "python",
   "pygments_lexer": "ipython3",
   "version": "3.10.0"
  }
 },
 "nbformat": 4,
 "nbformat_minor": 5
}
